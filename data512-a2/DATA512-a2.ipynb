{
 "cells": [
  {
   "cell_type": "markdown",
   "metadata": {},
   "source": [
    "# A2: Bias in Data\n",
    "\n",
    "In this notebook, we have done an exploratory analysis on Aggression and toxicity dataset from Wikipedia Talk on Figshare.\n",
    "We will identify potential sources of bias in a corpus of human-annotated data, and describe some implications of those biases.\n",
    "\n",
    "The corpus we will use is called the Wikipedia Talk corpus, and it consists of three datasets. Each dataset contains thousands of online discussion posts made by Wikipedia editors who were discussing how to write and edit Wikipedia articles. Crowdworkers labelled these posts for three kinds of hostile speech: “toxicity”, “aggression”, and “personal attacks”. Many posts in each dataset were labelled by multiple crowdworkers for each type of hostile speech, to improve accuracy.\n",
    "\n",
    "\n",
    "Corpus - Wikipedia Talk corpus<br>\n",
    "Source data - [Figshare](https://figshare.com/projects/Wikipedia_Talk/16731) <br>\n",
    "Schema and descriptions -[here](https://meta.wikimedia.org/wiki/Research:Detox/Data_Release).<br>\n",
    "Datasets - The dataset for three kinds of hostile speech: “toxicity”, “aggression”, and “personal attacks”. \n",
    "\n",
    "- **Aggression**: 100k labeled comments from English Wikipedia by approximately 10 annotators via Crowdflower on how aggressive the comment was perceived to be along with some demographic data for each crowd-worker.\n",
    "\n",
    "- **Toxicity**: 160k labeled comments from English Wikipedia by approximately 10 annotators via Crowdflower on a spectrum of how toxic the comment is (perceived as likely to make people want to leave the discussion) to how healthy to conversation the contribution is.\n",
    "\n",
    "\n",
    "**Goal ** - The goal of this assignment is to identify what, if any, sources of bias may exist in these datasets, and to develop testable hypotheses about how these biases might impact the behavior of machine learning models trained on the data, when those models are used for research purposes or to power data-driven applications. \n"
   ]
  },
  {
   "cell_type": "markdown",
   "metadata": {},
   "source": [
    "## Installing/ Importing the dataset"
   ]
  },
  {
   "cell_type": "code",
   "execution_count": 139,
   "metadata": {
    "ExecuteTime": {
     "end_time": "2020-10-28T15:35:34.755212Z",
     "start_time": "2020-10-28T15:35:34.748141Z"
    }
   },
   "outputs": [],
   "source": [
    "## Install the libraries (Depends on what )\n",
    "##pip install nltk\n",
    "##pip install wordcloud\n",
    "##pip install matplotlib\n",
    "##pip install urllib\n",
    "##pip install os\n"
   ]
  },
  {
   "cell_type": "code",
   "execution_count": 120,
   "metadata": {
    "ExecuteTime": {
     "end_time": "2020-10-28T14:50:22.369070Z",
     "start_time": "2020-10-28T14:50:21.995508Z"
    }
   },
   "outputs": [],
   "source": [
    "# importing all libraries\n",
    "import pandas as pd\n",
    "import matplotlib.pyplot as plt\n",
    "import nltk\n",
    "import requests\n",
    "import numpy as np\n",
    "from zipfile import ZipFile\n",
    "from urllib.request import urlretrieve\n",
    "import os\n",
    "from wordcloud import WordCloud\n",
    "import seaborn as sns\n",
    "%matplotlib inline"
   ]
  },
  {
   "cell_type": "code",
   "execution_count": 89,
   "metadata": {
    "ExecuteTime": {
     "end_time": "2020-10-28T13:42:21.703116Z",
     "start_time": "2020-10-28T13:42:21.686635Z"
    }
   },
   "outputs": [],
   "source": [
    "#Dataset source\n",
    "## Manually entering the link of the dataset from Figshare and storing that\n",
    "## We are fetching data for 3 types of filters\n",
    "\n",
    "TOXICITY_COMMENTS = 'https://ndownloader.figshare.com/files/7394542' \n",
    "TOXICITY_ANNOTATIONS = 'https://ndownloader.figshare.com/files/7394539'\n",
    "TOXICITY_DEMOGRAPHICS = 'https://ndownloader.figshare.com/files/7640581'\n",
    "\n",
    "ATTACK_COMMENTS = 'https://ndownloader.figshare.com/files/7554634' \n",
    "ATTACK_ANNOTATIONS = 'https://ndownloader.figshare.com/files/7554637'\n",
    "ATTACK_DEMOGRAPHICS = 'https://ndownloader.figshare.com/files/7640752'\n",
    "\n",
    "AGGRESSION_COMMENTS = 'https://ndownloader.figshare.com/files/7038038' \n",
    "AGGRESSION_ANNOTATIONS = 'https://ndownloader.figshare.com/files/7394506'\n",
    "AGGRESSION_DEMOGRAPHICS = 'https://ndownloader.figshare.com/files/7640644'"
   ]
  },
  {
   "cell_type": "code",
   "execution_count": 90,
   "metadata": {
    "ExecuteTime": {
     "end_time": "2020-10-28T13:44:29.517377Z",
     "start_time": "2020-10-28T13:42:22.737961Z"
    }
   },
   "outputs": [
    {
     "data": {
      "text/plain": [
       "('data/aggression_demographics.tsv',\n",
       " <http.client.HTTPMessage at 0x2cecb9f07c8>)"
      ]
     },
     "execution_count": 90,
     "metadata": {},
     "output_type": "execute_result"
    }
   ],
   "source": [
    "## Using the webpage/ data url available, we now fetch the data/ download the data in data folder\n",
    "urlretrieve(TOXICITY_COMMENTS, 'data/toxicity_comments.tsv')\n",
    "urlretrieve(TOXICITY_ANNOTATIONS, 'data/toxicity_annotations.tsv')   \n",
    "urlretrieve(TOXICITY_DEMOGRAPHICS, 'data/toxicity_demographics.tsv')   \n",
    "\n",
    "urlretrieve(ATTACK_COMMENTS, 'data/attack_comments.tsv')\n",
    "urlretrieve(ATTACK_ANNOTATIONS, 'data/attack_annotations.tsv')\n",
    "urlretrieve(ATTACK_DEMOGRAPHICS, 'data/attack_demographics.tsv')\n",
    "\n",
    "urlretrieve(AGGRESSION_COMMENTS, 'data/aggression_comments.tsv')\n",
    "urlretrieve(AGGRESSION_ANNOTATIONS, 'data/aggression_annotations.tsv')   \n",
    "urlretrieve(AGGRESSION_DEMOGRAPHICS, 'data/aggression_demographics.tsv')"
   ]
  },
  {
   "cell_type": "markdown",
   "metadata": {},
   "source": [
    "## Loading the fetched data and using it as a dataframe"
   ]
  },
  {
   "cell_type": "code",
   "execution_count": 91,
   "metadata": {
    "ExecuteTime": {
     "end_time": "2020-10-28T13:44:43.649444Z",
     "start_time": "2020-10-28T13:44:29.526085Z"
    }
   },
   "outputs": [],
   "source": [
    "toxicity_comments = pd.read_csv('data/toxicity_comments.tsv', sep='\\t')\n",
    "toxicity_annotations = pd.read_csv('data/toxicity_annotations.tsv', sep='\\t')\n",
    "toxicity_demographics = pd.read_csv('data/toxicity_demographics.tsv', sep='\\t')\n",
    "\n",
    "attack_comments = pd.read_csv('data/attack_comments.tsv', sep='\\t')\n",
    "attack_annotations = pd.read_csv('data/attack_annotations.tsv', sep='\\t')\n",
    "attack_demographics = pd.read_csv('data/attack_demographics.tsv', sep='\\t')\n",
    "\n",
    "aggression_comments = pd.read_csv('data/aggression_comments.tsv', sep='\\t')\n",
    "aggression_annotations = pd.read_csv('data/aggression_annotations.tsv', sep='\\t')\n",
    "aggression_demographics = pd.read_csv('data/aggression_demographics.tsv', sep='\\t')"
   ]
  },
  {
   "cell_type": "markdown",
   "metadata": {},
   "source": [
    "## Data Exploration"
   ]
  },
  {
   "cell_type": "code",
   "execution_count": 92,
   "metadata": {
    "ExecuteTime": {
     "end_time": "2020-10-28T13:44:43.850876Z",
     "start_time": "2020-10-28T13:44:43.658425Z"
    }
   },
   "outputs": [
    {
     "data": {
      "text/html": [
       "<div>\n",
       "<style scoped>\n",
       "    .dataframe tbody tr th:only-of-type {\n",
       "        vertical-align: middle;\n",
       "    }\n",
       "\n",
       "    .dataframe tbody tr th {\n",
       "        vertical-align: top;\n",
       "    }\n",
       "\n",
       "    .dataframe thead th {\n",
       "        text-align: right;\n",
       "    }\n",
       "</style>\n",
       "<table border=\"1\" class=\"dataframe\">\n",
       "  <thead>\n",
       "    <tr style=\"text-align: right;\">\n",
       "      <th></th>\n",
       "      <th>rev_id</th>\n",
       "      <th>comment</th>\n",
       "      <th>year</th>\n",
       "      <th>logged_in</th>\n",
       "      <th>ns</th>\n",
       "      <th>sample</th>\n",
       "      <th>split</th>\n",
       "    </tr>\n",
       "  </thead>\n",
       "  <tbody>\n",
       "    <tr>\n",
       "      <td>0</td>\n",
       "      <td>2232.0</td>\n",
       "      <td>This:NEWLINE_TOKEN:One can make an analogy in ...</td>\n",
       "      <td>2002</td>\n",
       "      <td>True</td>\n",
       "      <td>article</td>\n",
       "      <td>random</td>\n",
       "      <td>train</td>\n",
       "    </tr>\n",
       "    <tr>\n",
       "      <td>1</td>\n",
       "      <td>4216.0</td>\n",
       "      <td>`NEWLINE_TOKENNEWLINE_TOKEN:Clarification for ...</td>\n",
       "      <td>2002</td>\n",
       "      <td>True</td>\n",
       "      <td>user</td>\n",
       "      <td>random</td>\n",
       "      <td>train</td>\n",
       "    </tr>\n",
       "    <tr>\n",
       "      <td>2</td>\n",
       "      <td>8953.0</td>\n",
       "      <td>Elected or Electoral? JHK</td>\n",
       "      <td>2002</td>\n",
       "      <td>False</td>\n",
       "      <td>article</td>\n",
       "      <td>random</td>\n",
       "      <td>test</td>\n",
       "    </tr>\n",
       "    <tr>\n",
       "      <td>3</td>\n",
       "      <td>26547.0</td>\n",
       "      <td>`This is such a fun entry.   DevotchkaNEWLINE_...</td>\n",
       "      <td>2002</td>\n",
       "      <td>True</td>\n",
       "      <td>article</td>\n",
       "      <td>random</td>\n",
       "      <td>train</td>\n",
       "    </tr>\n",
       "    <tr>\n",
       "      <td>4</td>\n",
       "      <td>28959.0</td>\n",
       "      <td>Please relate the ozone hole to increases in c...</td>\n",
       "      <td>2002</td>\n",
       "      <td>True</td>\n",
       "      <td>article</td>\n",
       "      <td>random</td>\n",
       "      <td>test</td>\n",
       "    </tr>\n",
       "  </tbody>\n",
       "</table>\n",
       "</div>"
      ],
      "text/plain": [
       "    rev_id                                            comment  year  \\\n",
       "0   2232.0  This:NEWLINE_TOKEN:One can make an analogy in ...  2002   \n",
       "1   4216.0  `NEWLINE_TOKENNEWLINE_TOKEN:Clarification for ...  2002   \n",
       "2   8953.0                          Elected or Electoral? JHK  2002   \n",
       "3  26547.0  `This is such a fun entry.   DevotchkaNEWLINE_...  2002   \n",
       "4  28959.0  Please relate the ozone hole to increases in c...  2002   \n",
       "\n",
       "   logged_in       ns  sample  split  \n",
       "0       True  article  random  train  \n",
       "1       True     user  random  train  \n",
       "2      False  article  random   test  \n",
       "3       True  article  random  train  \n",
       "4       True  article  random   test  "
      ]
     },
     "execution_count": 92,
     "metadata": {},
     "output_type": "execute_result"
    }
   ],
   "source": [
    "## Comments file for toxicity dataset\n",
    "toxicity_comments.head()"
   ]
  },
  {
   "cell_type": "code",
   "execution_count": 93,
   "metadata": {
    "ExecuteTime": {
     "end_time": "2020-10-28T13:44:43.880485Z",
     "start_time": "2020-10-28T13:44:43.856367Z"
    }
   },
   "outputs": [
    {
     "data": {
      "text/html": [
       "<div>\n",
       "<style scoped>\n",
       "    .dataframe tbody tr th:only-of-type {\n",
       "        vertical-align: middle;\n",
       "    }\n",
       "\n",
       "    .dataframe tbody tr th {\n",
       "        vertical-align: top;\n",
       "    }\n",
       "\n",
       "    .dataframe thead th {\n",
       "        text-align: right;\n",
       "    }\n",
       "</style>\n",
       "<table border=\"1\" class=\"dataframe\">\n",
       "  <thead>\n",
       "    <tr style=\"text-align: right;\">\n",
       "      <th></th>\n",
       "      <th>rev_id</th>\n",
       "      <th>worker_id</th>\n",
       "      <th>toxicity</th>\n",
       "      <th>toxicity_score</th>\n",
       "    </tr>\n",
       "  </thead>\n",
       "  <tbody>\n",
       "    <tr>\n",
       "      <td>0</td>\n",
       "      <td>2232.0</td>\n",
       "      <td>723</td>\n",
       "      <td>0</td>\n",
       "      <td>0.0</td>\n",
       "    </tr>\n",
       "    <tr>\n",
       "      <td>1</td>\n",
       "      <td>2232.0</td>\n",
       "      <td>4000</td>\n",
       "      <td>0</td>\n",
       "      <td>0.0</td>\n",
       "    </tr>\n",
       "    <tr>\n",
       "      <td>2</td>\n",
       "      <td>2232.0</td>\n",
       "      <td>3989</td>\n",
       "      <td>0</td>\n",
       "      <td>1.0</td>\n",
       "    </tr>\n",
       "    <tr>\n",
       "      <td>3</td>\n",
       "      <td>2232.0</td>\n",
       "      <td>3341</td>\n",
       "      <td>0</td>\n",
       "      <td>0.0</td>\n",
       "    </tr>\n",
       "    <tr>\n",
       "      <td>4</td>\n",
       "      <td>2232.0</td>\n",
       "      <td>1574</td>\n",
       "      <td>0</td>\n",
       "      <td>1.0</td>\n",
       "    </tr>\n",
       "  </tbody>\n",
       "</table>\n",
       "</div>"
      ],
      "text/plain": [
       "   rev_id  worker_id  toxicity  toxicity_score\n",
       "0  2232.0        723         0             0.0\n",
       "1  2232.0       4000         0             0.0\n",
       "2  2232.0       3989         0             1.0\n",
       "3  2232.0       3341         0             0.0\n",
       "4  2232.0       1574         0             1.0"
      ]
     },
     "execution_count": 93,
     "metadata": {},
     "output_type": "execute_result"
    }
   ],
   "source": [
    "## Annotations file for toxicity dataset\n",
    "toxicity_annotations.head()"
   ]
  },
  {
   "cell_type": "code",
   "execution_count": 94,
   "metadata": {
    "ExecuteTime": {
     "end_time": "2020-10-28T13:44:43.911888Z",
     "start_time": "2020-10-28T13:44:43.886299Z"
    }
   },
   "outputs": [
    {
     "data": {
      "text/html": [
       "<div>\n",
       "<style scoped>\n",
       "    .dataframe tbody tr th:only-of-type {\n",
       "        vertical-align: middle;\n",
       "    }\n",
       "\n",
       "    .dataframe tbody tr th {\n",
       "        vertical-align: top;\n",
       "    }\n",
       "\n",
       "    .dataframe thead th {\n",
       "        text-align: right;\n",
       "    }\n",
       "</style>\n",
       "<table border=\"1\" class=\"dataframe\">\n",
       "  <thead>\n",
       "    <tr style=\"text-align: right;\">\n",
       "      <th></th>\n",
       "      <th>worker_id</th>\n",
       "      <th>gender</th>\n",
       "      <th>english_first_language</th>\n",
       "      <th>age_group</th>\n",
       "      <th>education</th>\n",
       "    </tr>\n",
       "  </thead>\n",
       "  <tbody>\n",
       "    <tr>\n",
       "      <td>0</td>\n",
       "      <td>85</td>\n",
       "      <td>female</td>\n",
       "      <td>0</td>\n",
       "      <td>18-30</td>\n",
       "      <td>bachelors</td>\n",
       "    </tr>\n",
       "    <tr>\n",
       "      <td>1</td>\n",
       "      <td>1617</td>\n",
       "      <td>female</td>\n",
       "      <td>0</td>\n",
       "      <td>45-60</td>\n",
       "      <td>bachelors</td>\n",
       "    </tr>\n",
       "    <tr>\n",
       "      <td>2</td>\n",
       "      <td>1394</td>\n",
       "      <td>female</td>\n",
       "      <td>0</td>\n",
       "      <td>NaN</td>\n",
       "      <td>bachelors</td>\n",
       "    </tr>\n",
       "    <tr>\n",
       "      <td>3</td>\n",
       "      <td>311</td>\n",
       "      <td>male</td>\n",
       "      <td>0</td>\n",
       "      <td>30-45</td>\n",
       "      <td>bachelors</td>\n",
       "    </tr>\n",
       "    <tr>\n",
       "      <td>4</td>\n",
       "      <td>1980</td>\n",
       "      <td>male</td>\n",
       "      <td>0</td>\n",
       "      <td>45-60</td>\n",
       "      <td>masters</td>\n",
       "    </tr>\n",
       "  </tbody>\n",
       "</table>\n",
       "</div>"
      ],
      "text/plain": [
       "   worker_id  gender  english_first_language age_group  education\n",
       "0         85  female                       0     18-30  bachelors\n",
       "1       1617  female                       0     45-60  bachelors\n",
       "2       1394  female                       0       NaN  bachelors\n",
       "3        311    male                       0     30-45  bachelors\n",
       "4       1980    male                       0     45-60    masters"
      ]
     },
     "execution_count": 94,
     "metadata": {},
     "output_type": "execute_result"
    }
   ],
   "source": [
    "## Worker Demographics file for toxicity dataset\n",
    "toxicity_demographics.head()"
   ]
  },
  {
   "cell_type": "markdown",
   "metadata": {},
   "source": [
    "We observe that the data can be merged together using the 2 primary keys - 'worker_id' and 'rev_id'. \n",
    "First, we will use the worker_id field to join the dataframe for annotation nad demographics\n"
   ]
  },
  {
   "cell_type": "code",
   "execution_count": 95,
   "metadata": {
    "ExecuteTime": {
     "end_time": "2020-10-28T13:44:47.657536Z",
     "start_time": "2020-10-28T13:44:43.917536Z"
    }
   },
   "outputs": [],
   "source": [
    "## Merging the data \n",
    "toxicity_joined = toxicity_annotations.join(toxicity_demographics, on=\"worker_id\", rsuffix=\"_demo\")\n",
    "attack_joined = attack_annotations.join(attack_demographics, on=\"worker_id\", rsuffix=\"_demo\")\n",
    "aggression_joined = aggression_annotations.join(aggression_demographics, on=\"worker_id\", rsuffix=\"_demo\")\n"
   ]
  },
  {
   "cell_type": "code",
   "execution_count": 96,
   "metadata": {
    "ExecuteTime": {
     "end_time": "2020-10-28T13:44:47.804342Z",
     "start_time": "2020-10-28T13:44:47.684167Z"
    }
   },
   "outputs": [
    {
     "data": {
      "text/html": [
       "<div>\n",
       "<style scoped>\n",
       "    .dataframe tbody tr th:only-of-type {\n",
       "        vertical-align: middle;\n",
       "    }\n",
       "\n",
       "    .dataframe tbody tr th {\n",
       "        vertical-align: top;\n",
       "    }\n",
       "\n",
       "    .dataframe thead th {\n",
       "        text-align: right;\n",
       "    }\n",
       "</style>\n",
       "<table border=\"1\" class=\"dataframe\">\n",
       "  <thead>\n",
       "    <tr style=\"text-align: right;\">\n",
       "      <th></th>\n",
       "      <th>rev_id</th>\n",
       "      <th>worker_id</th>\n",
       "      <th>toxicity</th>\n",
       "      <th>toxicity_score</th>\n",
       "      <th>worker_id_demo</th>\n",
       "      <th>gender</th>\n",
       "      <th>english_first_language</th>\n",
       "      <th>age_group</th>\n",
       "      <th>education</th>\n",
       "    </tr>\n",
       "  </thead>\n",
       "  <tbody>\n",
       "    <tr>\n",
       "      <td>0</td>\n",
       "      <td>2232.0</td>\n",
       "      <td>723</td>\n",
       "      <td>0</td>\n",
       "      <td>0.0</td>\n",
       "      <td>1789.0</td>\n",
       "      <td>male</td>\n",
       "      <td>1.0</td>\n",
       "      <td>30-45</td>\n",
       "      <td>bachelors</td>\n",
       "    </tr>\n",
       "    <tr>\n",
       "      <td>1</td>\n",
       "      <td>2232.0</td>\n",
       "      <td>4000</td>\n",
       "      <td>0</td>\n",
       "      <td>0.0</td>\n",
       "      <td>NaN</td>\n",
       "      <td>NaN</td>\n",
       "      <td>NaN</td>\n",
       "      <td>NaN</td>\n",
       "      <td>NaN</td>\n",
       "    </tr>\n",
       "    <tr>\n",
       "      <td>2</td>\n",
       "      <td>2232.0</td>\n",
       "      <td>3989</td>\n",
       "      <td>0</td>\n",
       "      <td>1.0</td>\n",
       "      <td>NaN</td>\n",
       "      <td>NaN</td>\n",
       "      <td>NaN</td>\n",
       "      <td>NaN</td>\n",
       "      <td>NaN</td>\n",
       "    </tr>\n",
       "    <tr>\n",
       "      <td>3</td>\n",
       "      <td>2232.0</td>\n",
       "      <td>3341</td>\n",
       "      <td>0</td>\n",
       "      <td>0.0</td>\n",
       "      <td>3974.0</td>\n",
       "      <td>male</td>\n",
       "      <td>0.0</td>\n",
       "      <td>18-30</td>\n",
       "      <td>hs</td>\n",
       "    </tr>\n",
       "    <tr>\n",
       "      <td>4</td>\n",
       "      <td>2232.0</td>\n",
       "      <td>1574</td>\n",
       "      <td>0</td>\n",
       "      <td>1.0</td>\n",
       "      <td>3863.0</td>\n",
       "      <td>female</td>\n",
       "      <td>0.0</td>\n",
       "      <td>18-30</td>\n",
       "      <td>professional</td>\n",
       "    </tr>\n",
       "  </tbody>\n",
       "</table>\n",
       "</div>"
      ],
      "text/plain": [
       "   rev_id  worker_id  toxicity  toxicity_score  worker_id_demo  gender  \\\n",
       "0  2232.0        723         0             0.0          1789.0    male   \n",
       "1  2232.0       4000         0             0.0             NaN     NaN   \n",
       "2  2232.0       3989         0             1.0             NaN     NaN   \n",
       "3  2232.0       3341         0             0.0          3974.0    male   \n",
       "4  2232.0       1574         0             1.0          3863.0  female   \n",
       "\n",
       "   english_first_language age_group     education  \n",
       "0                     1.0     30-45     bachelors  \n",
       "1                     NaN       NaN           NaN  \n",
       "2                     NaN       NaN           NaN  \n",
       "3                     0.0     18-30            hs  \n",
       "4                     0.0     18-30  professional  "
      ]
     },
     "execution_count": 96,
     "metadata": {},
     "output_type": "execute_result"
    }
   ],
   "source": [
    "toxicity_joined.head()"
   ]
  },
  {
   "cell_type": "code",
   "execution_count": 97,
   "metadata": {
    "ExecuteTime": {
     "end_time": "2020-10-28T13:44:47.869160Z",
     "start_time": "2020-10-28T13:44:47.814511Z"
    }
   },
   "outputs": [
    {
     "data": {
      "text/html": [
       "<div>\n",
       "<style scoped>\n",
       "    .dataframe tbody tr th:only-of-type {\n",
       "        vertical-align: middle;\n",
       "    }\n",
       "\n",
       "    .dataframe tbody tr th {\n",
       "        vertical-align: top;\n",
       "    }\n",
       "\n",
       "    .dataframe thead th {\n",
       "        text-align: right;\n",
       "    }\n",
       "</style>\n",
       "<table border=\"1\" class=\"dataframe\">\n",
       "  <thead>\n",
       "    <tr style=\"text-align: right;\">\n",
       "      <th></th>\n",
       "      <th>rev_id</th>\n",
       "      <th>worker_id</th>\n",
       "      <th>quoting_attack</th>\n",
       "      <th>recipient_attack</th>\n",
       "      <th>third_party_attack</th>\n",
       "      <th>other_attack</th>\n",
       "      <th>attack</th>\n",
       "      <th>worker_id_demo</th>\n",
       "      <th>gender</th>\n",
       "      <th>english_first_language</th>\n",
       "      <th>age_group</th>\n",
       "      <th>education</th>\n",
       "    </tr>\n",
       "  </thead>\n",
       "  <tbody>\n",
       "    <tr>\n",
       "      <td>0</td>\n",
       "      <td>37675</td>\n",
       "      <td>1362</td>\n",
       "      <td>0.0</td>\n",
       "      <td>0.0</td>\n",
       "      <td>0.0</td>\n",
       "      <td>0.0</td>\n",
       "      <td>0.0</td>\n",
       "      <td>3248.0</td>\n",
       "      <td>male</td>\n",
       "      <td>0.0</td>\n",
       "      <td>30-45</td>\n",
       "      <td>bachelors</td>\n",
       "    </tr>\n",
       "    <tr>\n",
       "      <td>1</td>\n",
       "      <td>37675</td>\n",
       "      <td>2408</td>\n",
       "      <td>0.0</td>\n",
       "      <td>0.0</td>\n",
       "      <td>0.0</td>\n",
       "      <td>0.0</td>\n",
       "      <td>0.0</td>\n",
       "      <td>NaN</td>\n",
       "      <td>NaN</td>\n",
       "      <td>NaN</td>\n",
       "      <td>NaN</td>\n",
       "      <td>NaN</td>\n",
       "    </tr>\n",
       "    <tr>\n",
       "      <td>2</td>\n",
       "      <td>37675</td>\n",
       "      <td>1493</td>\n",
       "      <td>0.0</td>\n",
       "      <td>0.0</td>\n",
       "      <td>0.0</td>\n",
       "      <td>0.0</td>\n",
       "      <td>0.0</td>\n",
       "      <td>2953.0</td>\n",
       "      <td>female</td>\n",
       "      <td>0.0</td>\n",
       "      <td>30-45</td>\n",
       "      <td>hs</td>\n",
       "    </tr>\n",
       "    <tr>\n",
       "      <td>3</td>\n",
       "      <td>37675</td>\n",
       "      <td>1439</td>\n",
       "      <td>0.0</td>\n",
       "      <td>0.0</td>\n",
       "      <td>0.0</td>\n",
       "      <td>0.0</td>\n",
       "      <td>0.0</td>\n",
       "      <td>49.0</td>\n",
       "      <td>male</td>\n",
       "      <td>0.0</td>\n",
       "      <td>18-30</td>\n",
       "      <td>professional</td>\n",
       "    </tr>\n",
       "    <tr>\n",
       "      <td>4</td>\n",
       "      <td>37675</td>\n",
       "      <td>170</td>\n",
       "      <td>0.0</td>\n",
       "      <td>0.0</td>\n",
       "      <td>0.0</td>\n",
       "      <td>0.0</td>\n",
       "      <td>0.0</td>\n",
       "      <td>1127.0</td>\n",
       "      <td>female</td>\n",
       "      <td>0.0</td>\n",
       "      <td>45-60</td>\n",
       "      <td>masters</td>\n",
       "    </tr>\n",
       "  </tbody>\n",
       "</table>\n",
       "</div>"
      ],
      "text/plain": [
       "   rev_id  worker_id  quoting_attack  recipient_attack  third_party_attack  \\\n",
       "0   37675       1362             0.0               0.0                 0.0   \n",
       "1   37675       2408             0.0               0.0                 0.0   \n",
       "2   37675       1493             0.0               0.0                 0.0   \n",
       "3   37675       1439             0.0               0.0                 0.0   \n",
       "4   37675        170             0.0               0.0                 0.0   \n",
       "\n",
       "   other_attack  attack  worker_id_demo  gender  english_first_language  \\\n",
       "0           0.0     0.0          3248.0    male                     0.0   \n",
       "1           0.0     0.0             NaN     NaN                     NaN   \n",
       "2           0.0     0.0          2953.0  female                     0.0   \n",
       "3           0.0     0.0            49.0    male                     0.0   \n",
       "4           0.0     0.0          1127.0  female                     0.0   \n",
       "\n",
       "  age_group     education  \n",
       "0     30-45     bachelors  \n",
       "1       NaN           NaN  \n",
       "2     30-45            hs  \n",
       "3     18-30  professional  \n",
       "4     45-60       masters  "
      ]
     },
     "execution_count": 97,
     "metadata": {},
     "output_type": "execute_result"
    }
   ],
   "source": [
    "attack_joined.head()"
   ]
  },
  {
   "cell_type": "code",
   "execution_count": 98,
   "metadata": {
    "ExecuteTime": {
     "end_time": "2020-10-28T13:44:47.916222Z",
     "start_time": "2020-10-28T13:44:47.876276Z"
    },
    "scrolled": true
   },
   "outputs": [
    {
     "data": {
      "text/html": [
       "<div>\n",
       "<style scoped>\n",
       "    .dataframe tbody tr th:only-of-type {\n",
       "        vertical-align: middle;\n",
       "    }\n",
       "\n",
       "    .dataframe tbody tr th {\n",
       "        vertical-align: top;\n",
       "    }\n",
       "\n",
       "    .dataframe thead th {\n",
       "        text-align: right;\n",
       "    }\n",
       "</style>\n",
       "<table border=\"1\" class=\"dataframe\">\n",
       "  <thead>\n",
       "    <tr style=\"text-align: right;\">\n",
       "      <th></th>\n",
       "      <th>rev_id</th>\n",
       "      <th>worker_id</th>\n",
       "      <th>aggression</th>\n",
       "      <th>aggression_score</th>\n",
       "      <th>worker_id_demo</th>\n",
       "      <th>gender</th>\n",
       "      <th>english_first_language</th>\n",
       "      <th>age_group</th>\n",
       "      <th>education</th>\n",
       "    </tr>\n",
       "  </thead>\n",
       "  <tbody>\n",
       "    <tr>\n",
       "      <td>0</td>\n",
       "      <td>37675</td>\n",
       "      <td>1362</td>\n",
       "      <td>1.0</td>\n",
       "      <td>-1.0</td>\n",
       "      <td>3248.0</td>\n",
       "      <td>male</td>\n",
       "      <td>0.0</td>\n",
       "      <td>30-45</td>\n",
       "      <td>bachelors</td>\n",
       "    </tr>\n",
       "    <tr>\n",
       "      <td>1</td>\n",
       "      <td>37675</td>\n",
       "      <td>2408</td>\n",
       "      <td>0.0</td>\n",
       "      <td>1.0</td>\n",
       "      <td>NaN</td>\n",
       "      <td>NaN</td>\n",
       "      <td>NaN</td>\n",
       "      <td>NaN</td>\n",
       "      <td>NaN</td>\n",
       "    </tr>\n",
       "    <tr>\n",
       "      <td>2</td>\n",
       "      <td>37675</td>\n",
       "      <td>1493</td>\n",
       "      <td>0.0</td>\n",
       "      <td>0.0</td>\n",
       "      <td>2953.0</td>\n",
       "      <td>female</td>\n",
       "      <td>0.0</td>\n",
       "      <td>30-45</td>\n",
       "      <td>hs</td>\n",
       "    </tr>\n",
       "    <tr>\n",
       "      <td>3</td>\n",
       "      <td>37675</td>\n",
       "      <td>1439</td>\n",
       "      <td>0.0</td>\n",
       "      <td>0.0</td>\n",
       "      <td>49.0</td>\n",
       "      <td>male</td>\n",
       "      <td>0.0</td>\n",
       "      <td>18-30</td>\n",
       "      <td>professional</td>\n",
       "    </tr>\n",
       "    <tr>\n",
       "      <td>4</td>\n",
       "      <td>37675</td>\n",
       "      <td>170</td>\n",
       "      <td>0.0</td>\n",
       "      <td>0.0</td>\n",
       "      <td>1127.0</td>\n",
       "      <td>female</td>\n",
       "      <td>0.0</td>\n",
       "      <td>45-60</td>\n",
       "      <td>masters</td>\n",
       "    </tr>\n",
       "  </tbody>\n",
       "</table>\n",
       "</div>"
      ],
      "text/plain": [
       "   rev_id  worker_id  aggression  aggression_score  worker_id_demo  gender  \\\n",
       "0   37675       1362         1.0              -1.0          3248.0    male   \n",
       "1   37675       2408         0.0               1.0             NaN     NaN   \n",
       "2   37675       1493         0.0               0.0          2953.0  female   \n",
       "3   37675       1439         0.0               0.0            49.0    male   \n",
       "4   37675        170         0.0               0.0          1127.0  female   \n",
       "\n",
       "   english_first_language age_group     education  \n",
       "0                     0.0     30-45     bachelors  \n",
       "1                     NaN       NaN           NaN  \n",
       "2                     0.0     30-45            hs  \n",
       "3                     0.0     18-30  professional  \n",
       "4                     0.0     45-60       masters  "
      ]
     },
     "execution_count": 98,
     "metadata": {},
     "output_type": "execute_result"
    }
   ],
   "source": [
    "aggression_joined.head()"
   ]
  },
  {
   "cell_type": "markdown",
   "metadata": {},
   "source": [
    "## We will explore this dataset and perform  analysis to check for bias\n"
   ]
  },
  {
   "cell_type": "markdown",
   "metadata": {},
   "source": [
    "## Analysis : \tAnalyze the demographic information about the Crowdflower workers that is available in the dataset"
   ]
  },
  {
   "cell_type": "markdown",
   "metadata": {},
   "source": [
    "#### Research Questions\n",
    "Looking at the demographic profiles of the crowdworkers who are labelling the comments as aggressive or toxic, do we observe a fair representation or some bias in the proportion of any particular -\n",
    "1. Gender?\n",
    "2. Age?\n",
    "3. Education?\n",
    "Is it significantly differnet or can it impact the results? \n",
    "\n",
    "\n",
    "#### Exploratory Analysis\n",
    "\n",
    "1. The distribution of workers by gender who are labelling the comments datasets \n",
    "2. The distribution of workers by age who are labelling the comments datasets \n",
    "3. The distribution of workers by education who are labelling the comments datasets \n",
    "\n",
    "\n",
    "#### Dataset for this analysis\n",
    "I would be doing this analysis on all the three datasets to provide a deeper understanding of bias."
   ]
  },
  {
   "cell_type": "code",
   "execution_count": 110,
   "metadata": {
    "ExecuteTime": {
     "end_time": "2020-10-28T13:51:09.234844Z",
     "start_time": "2020-10-28T13:51:09.196824Z"
    }
   },
   "outputs": [],
   "source": [
    "## Created a function to get pie chart for a field for all dataset\n",
    "import matplotlib.pyplot as plt\n",
    "\n",
    "def bias_pie(attribute):\n",
    "     \n",
    "    fig = plt.figure()\n",
    "    typ = 'Aggressive'\n",
    "    ttl = attribute + ' distribution for ' + typ +' Comments'\n",
    "\n",
    "    ax1 = fig.add_axes([0, 0, .5, .5], aspect=0.5)\n",
    "    ax1.pie(aggression_joined[attribute].value_counts(), labels = aggression_joined[attribute].value_counts().index.tolist(), autopct='%1.2f%%')\n",
    "    \n",
    "    ax1.set_title(ttl)\n",
    "    \n",
    "    plt.figure(1)\n",
    "    typ = 'Toxic'\n",
    "    ttl = attribute + ' distribution for ' + typ +' Comments'\n",
    "\n",
    "    ax2 = fig.add_axes([.6, .0, .5, .5], aspect=1)\n",
    "    ax2.pie(toxicity_joined[attribute].value_counts(), labels = toxicity_joined[attribute].value_counts().index.tolist(), autopct='%1.2f%%')\n",
    "    ax2.set_title(ttl)\n",
    "    \n",
    "    plt.figure()\n",
    "\n",
    "    typ = 'Attack'\n",
    "    ttl = attribute + ' distribution for ' + typ +' Comments'\n",
    "    ax3 = fig.add_axes([1.2, 0, .5, .5], aspect=1)\n",
    "    #ax3.pie(fracs, labels=labels, radius = 1.5)\n",
    "    ax3.pie(attack_joined[attribute].value_counts(), labels = attack_joined[attribute].value_counts().index.tolist(), autopct='%1.2f%%')\n",
    "    ax3.set_title(ttl)\n",
    "    \n",
    "\n",
    "\n",
    "    plt.show()\n",
    "    plt.savefig('output/' + attribute + '_bias_piechart.png')\n",
    "\n"
   ]
  },
  {
   "cell_type": "code",
   "execution_count": 112,
   "metadata": {
    "ExecuteTime": {
     "end_time": "2020-10-28T13:51:13.803726Z",
     "start_time": "2020-10-28T13:51:11.550094Z"
    }
   },
   "outputs": [
    {
     "data": {
      "image/png": "[encoded data removed]",
      "text/plain": [
       "<Figure size 432x288 with 3 Axes>"
      ]
     },
     "metadata": {},
     "output_type": "display_data"
    },
    {
     "data": {
      "text/plain": [
       "<Figure size 432x288 with 0 Axes>"
      ]
     },
     "metadata": {},
     "output_type": "display_data"
    }
   ],
   "source": [
    "bias_pie('gender')\n"
   ]
  },
  {
   "cell_type": "code",
   "execution_count": 113,
   "metadata": {
    "ExecuteTime": {
     "end_time": "2020-10-28T13:51:14.732530Z",
     "start_time": "2020-10-28T13:51:13.809228Z"
    }
   },
   "outputs": [
    {
     "data": {
      "image/png": "[encoded data removed]",
      "text/plain": [
       "<Figure size 432x288 with 3 Axes>"
      ]
     },
     "metadata": {},
     "output_type": "display_data"
    },
    {
     "data": {
      "text/plain": [
       "<Figure size 432x288 with 0 Axes>"
      ]
     },
     "metadata": {},
     "output_type": "display_data"
    }
   ],
   "source": [
    "bias_pie('english_first_language')\n"
   ]
  },
  {
   "cell_type": "code",
   "execution_count": 114,
   "metadata": {
    "ExecuteTime": {
     "end_time": "2020-10-28T13:51:17.108597Z",
     "start_time": "2020-10-28T13:51:14.737255Z"
    }
   },
   "outputs": [
    {
     "data": {
      "image/png": "[encoded data removed]",
      "text/plain": [
       "<Figure size 432x288 with 3 Axes>"
      ]
     },
     "metadata": {},
     "output_type": "display_data"
    },
    {
     "data": {
      "text/plain": [
       "<Figure size 432x288 with 0 Axes>"
      ]
     },
     "metadata": {},
     "output_type": "display_data"
    }
   ],
   "source": [
    "bias_pie('education')\n"
   ]
  },
  {
   "cell_type": "code",
   "execution_count": 115,
   "metadata": {
    "ExecuteTime": {
     "end_time": "2020-10-28T13:51:21.428723Z",
     "start_time": "2020-10-28T13:51:17.113983Z"
    }
   },
   "outputs": [
    {
     "data": {
      "image/png": "[encoded data removed]",
      "text/plain": [
       "<Figure size 432x288 with 3 Axes>"
      ]
     },
     "metadata": {},
     "output_type": "display_data"
    },
    {
     "data": {
      "text/plain": [
       "<Figure size 432x288 with 0 Axes>"
      ]
     },
     "metadata": {},
     "output_type": "display_data"
    }
   ],
   "source": [
    "bias_pie('age_group')\n"
   ]
  },
  {
   "cell_type": "markdown",
   "metadata": {},
   "source": [
    "#### What did I find?\n",
    "\n",
    "**Gender**\n",
    "We observe from the above plot that there is a gender imbalance in the crowdworkers. We see that in all the 3 sets- there is a bias towards the male population i.e. though the general population has 50% share of males and females, we observe that in our data males represents around 65% of the population whereas females are only around 35%. Thus, the females are underrepresented and that can lead to potential biases in interpretation of comments. <br>\n",
    "Also, we dont have any information regarding the 'Other' category and won't be able to consider them\n",
    "\n",
    "**English as 1st language**\n",
    "We observe from the above plot that there is a proportion of segment(around 15%) in each set where english is the first language. This could create a potential bias on the dataset as the general population around the world has less than 10% people with english as their first language. We see that in all the 3 sets- there is a bias towards the population where english is  the first language. \n",
    "\n",
    "**Education**\n",
    "As we can see from the plots above, there is a significant difference between how workers from different education background have labelled this dataset. The group described as none has very different proportions compared to other groups. Looking across all the 3 segments, we observe a higher proportion of 18-30 age group in toxic comments(53%) compared to the other 2 segments (45%). We can see that this could lead to a slightly different trend in toxic comments compared to others.\n",
    "<br>\n",
    "This bias can be explained due to the different experiences and differnt maturity levels that come with different education. Education level can make a person more tolerable or intolerable towards particular sentiments. <br>\n",
    "\n",
    "**Age**\n",
    "As we can see from the plots above, there is a difference between how workers from different age groups have labelled this dataset. For example, age group over 60 is much more likely to report a comment as toxic compared ot other groups. Similarly, age group under 18 is much more likely to report a comment as aggressive compared to other groups\n",
    "<br>\n",
    "This bias can stem due to the different experiences and differnt maturity levels at differnt age. Someone under 18 would percieve the world very differently from someone above 60. <br>\n",
    "\n",
    "\n"
   ]
  },
  {
   "cell_type": "markdown",
   "metadata": {},
   "source": [
    "## Analysis : \tExplore relationships between worker demographics and labeling behavior"
   ]
  },
  {
   "cell_type": "markdown",
   "metadata": {},
   "source": [
    "#### Research Questions\n",
    "\n",
    "In the above analysis, we saw if there is any bias in the dataset compared to the general population. Now, we want to look into the relationships in the dataset. Are the young people more likely to be commenting more toxic and attack information and old people more polite or the other way around? \n",
    "\n",
    "\n",
    "\n",
    "#### Exploratory Analysis\n",
    "\n",
    "1. The distribution of workers by age who are labeling the comments datasets \n",
    "2. The distribution of workers by proportion of toxic/aggressive labels \n",
    "\n",
    "\n",
    "#### Dataset for this analysis\n",
    "I would be doing this analysis on all the three datasets to provide a deeper understanding of bias."
   ]
  },
  {
   "cell_type": "code",
   "execution_count": 121,
   "metadata": {
    "ExecuteTime": {
     "end_time": "2020-10-28T14:50:32.996515Z",
     "start_time": "2020-10-28T14:50:32.988722Z"
    }
   },
   "outputs": [],
   "source": [
    "## Created a function to get histogram chart for a field for all dataset \n",
    "def bias_hist(attribute):\n",
    "    df1 = toxicity_joined[[attribute,'toxicity']].groupby(attribute).mean()\n",
    "    df2 = attack_joined[[attribute,'attack']].groupby(attribute).mean()\n",
    "    df3 = aggression_joined[[attribute,'aggression']].groupby(attribute).mean()\n",
    "    df = pd.concat([df1, df2, df3], axis=1)\n",
    "\n",
    "    fig, axs = plt.subplots(1, 2, figsize=(15,5))\n",
    "    df.T.plot.bar(ax = axs[0])\n",
    "    df.plot.bar(ax = axs[1])\n",
    "\n",
    "    if not os.path.exists('output'):\n",
    "        os.makedirs('output')\n",
    "    \n",
    "    plt.savefig('output/' + attribute + '_bias_hist.png')\n",
    "\n",
    "    "
   ]
  },
  {
   "cell_type": "code",
   "execution_count": 122,
   "metadata": {
    "ExecuteTime": {
     "end_time": "2020-10-28T14:50:34.431863Z",
     "start_time": "2020-10-28T14:50:33.702690Z"
    }
   },
   "outputs": [
    {
     "data": {
      "image/png": "[encoded data removed]",
      "text/plain": [
       "<Figure size 1080x360 with 2 Axes>"
      ]
     },
     "metadata": {
      "needs_background": "light"
     },
     "output_type": "display_data"
    }
   ],
   "source": [
    "bias_hist('education')"
   ]
  },
  {
   "cell_type": "code",
   "execution_count": 124,
   "metadata": {
    "ExecuteTime": {
     "end_time": "2020-10-28T14:50:42.945915Z",
     "start_time": "2020-10-28T14:50:42.300743Z"
    },
    "scrolled": true
   },
   "outputs": [
    {
     "data": {
      "image/png": "[encoded data removed]",
      "text/plain": [
       "<Figure size 1080x360 with 2 Axes>"
      ]
     },
     "metadata": {
      "needs_background": "light"
     },
     "output_type": "display_data"
    }
   ],
   "source": [
    "bias_hist('age_group')"
   ]
  },
  {
   "cell_type": "code",
   "execution_count": 126,
   "metadata": {
    "ExecuteTime": {
     "end_time": "2020-10-28T14:56:53.486304Z",
     "start_time": "2020-10-28T14:56:52.890742Z"
    }
   },
   "outputs": [
    {
     "data": {
      "text/html": [
       "<div>\n",
       "<style scoped>\n",
       "    .dataframe tbody tr th:only-of-type {\n",
       "        vertical-align: middle;\n",
       "    }\n",
       "\n",
       "    .dataframe tbody tr th {\n",
       "        vertical-align: top;\n",
       "    }\n",
       "\n",
       "    .dataframe thead th {\n",
       "        text-align: right;\n",
       "    }\n",
       "</style>\n",
       "<table border=\"1\" class=\"dataframe\">\n",
       "  <thead>\n",
       "    <tr style=\"text-align: right;\">\n",
       "      <th>Type</th>\n",
       "      <th>Aggression Data Annotators</th>\n",
       "      <th>Toxicity Data Annotators</th>\n",
       "    </tr>\n",
       "    <tr>\n",
       "      <th>age_group</th>\n",
       "      <th></th>\n",
       "      <th></th>\n",
       "    </tr>\n",
       "  </thead>\n",
       "  <tbody>\n",
       "    <tr>\n",
       "      <td>0-18</td>\n",
       "      <td>18926</td>\n",
       "      <td>29518</td>\n",
       "    </tr>\n",
       "    <tr>\n",
       "      <td>18-30</td>\n",
       "      <td>472780</td>\n",
       "      <td>725606</td>\n",
       "    </tr>\n",
       "    <tr>\n",
       "      <td>30-45</td>\n",
       "      <td>437009</td>\n",
       "      <td>492067</td>\n",
       "    </tr>\n",
       "    <tr>\n",
       "      <td>45-60</td>\n",
       "      <td>106047</td>\n",
       "      <td>117030</td>\n",
       "    </tr>\n",
       "    <tr>\n",
       "      <td>Over 60</td>\n",
       "      <td>10087</td>\n",
       "      <td>10449</td>\n",
       "    </tr>\n",
       "  </tbody>\n",
       "</table>\n",
       "</div>"
      ],
      "text/plain": [
       "Type       Aggression Data Annotators  Toxicity Data Annotators\n",
       "age_group                                                      \n",
       "0-18                            18926                     29518\n",
       "18-30                          472780                    725606\n",
       "30-45                          437009                    492067\n",
       "45-60                          106047                    117030\n",
       "Over 60                         10087                     10449"
      ]
     },
     "metadata": {},
     "output_type": "display_data"
    },
    {
     "data": {
      "image/png": "[encoded data removed]",
      "text/plain": [
       "<Figure size 574.15x432 with 1 Axes>"
      ]
     },
     "metadata": {},
     "output_type": "display_data"
    }
   ],
   "source": [
    "# Calculate number of workers by age group\n",
    "\n",
    "agg_age_workers = aggression_joined.groupby(['age_group']).worker_id.agg('count').to_frame('workers_count').reset_index()\n",
    "agg_age_workers['Type'] = \"Aggression\"\n",
    "\n",
    "tox_age_workers = toxicity_joined.groupby(['age_group']).worker_id.agg('count').to_frame('workers_count').reset_index()\n",
    "tox_age_workers['Type'] = \"Toxicity\"\n",
    "\n",
    "age_workers = agg_age_workers.append(tox_age_workers)\n",
    "age_workers = age_workers.replace(['Under 18'], '0-18')\n",
    "age_workers = age_workers.sort_values(['age_group'])\n",
    "\n",
    "# Tabular Output\n",
    "\n",
    "age_workers_table = pd.pivot_table(age_workers, values='workers_count', index=['age_group'],\n",
    "                    columns=['Type'], aggfunc=np.sum)\n",
    "age_workers_table = age_workers_table.rename(columns={ \"Aggression\": \"Aggression Data Annotators\", \n",
    "                                                        \"Toxicity\" : \"Toxicity Data Annotators\" })\n",
    "display(age_workers_table)\n",
    "\n",
    "# Bar Chart Output\n",
    "\n",
    "sns.set_style('ticks')\n",
    "sns.set_style(\"whitegrid\") #gridlines\n",
    "sns.set(font_scale=1.5)  \n",
    "\n",
    "g = sns.catplot(\n",
    "    data=age_workers, kind=\"bar\",\n",
    "    x=\"age_group\", y=\"workers_count\", hue=\"Type\",\n",
    "    ci=\"sd\", palette=\"tab10\", alpha=.8, height=6\n",
    ")\n",
    "g.despine(left=True)\n",
    "g.set_axis_labels(\"Age Group\", \"Number of Workers\")\n",
    "\n",
    "# Save Output\n",
    "\n",
    "g.savefig(\"output/workersbyage.png\") \n"
   ]
  },
  {
   "cell_type": "markdown",
   "metadata": {},
   "source": [
    "We observe that the data is skewed towards the age group 18-45, which does not represents the general population. Thus, we move towards looking at the percentage of comments that annotators across different age groups labelled as aggressive or toxic.\n",
    "\n",
    "We will calculate the % comments labelled as aggressive or toxic by workers across different age groups. "
   ]
  },
  {
   "cell_type": "code",
   "execution_count": 137,
   "metadata": {
    "ExecuteTime": {
     "end_time": "2020-10-28T15:12:20.212445Z",
     "start_time": "2020-10-28T15:12:19.583152Z"
    }
   },
   "outputs": [
    {
     "data": {
      "text/html": [
       "<div>\n",
       "<style scoped>\n",
       "    .dataframe tbody tr th:only-of-type {\n",
       "        vertical-align: middle;\n",
       "    }\n",
       "\n",
       "    .dataframe tbody tr th {\n",
       "        vertical-align: top;\n",
       "    }\n",
       "\n",
       "    .dataframe thead th {\n",
       "        text-align: right;\n",
       "    }\n",
       "</style>\n",
       "<table border=\"1\" class=\"dataframe\">\n",
       "  <thead>\n",
       "    <tr style=\"text-align: right;\">\n",
       "      <th>Type</th>\n",
       "      <th>% Aggressive Comments</th>\n",
       "      <th>% Toxic Comments</th>\n",
       "    </tr>\n",
       "    <tr>\n",
       "      <th>age_group_</th>\n",
       "      <th></th>\n",
       "      <th></th>\n",
       "    </tr>\n",
       "  </thead>\n",
       "  <tbody>\n",
       "    <tr>\n",
       "      <td>0-18</td>\n",
       "      <td>19.8</td>\n",
       "      <td>14.8</td>\n",
       "    </tr>\n",
       "    <tr>\n",
       "      <td>18-30</td>\n",
       "      <td>17.2</td>\n",
       "      <td>14.3</td>\n",
       "    </tr>\n",
       "    <tr>\n",
       "      <td>30-45</td>\n",
       "      <td>17.1</td>\n",
       "      <td>14.6</td>\n",
       "    </tr>\n",
       "    <tr>\n",
       "      <td>45-60</td>\n",
       "      <td>17.4</td>\n",
       "      <td>14.5</td>\n",
       "    </tr>\n",
       "    <tr>\n",
       "      <td>Over 60</td>\n",
       "      <td>17.3</td>\n",
       "      <td>17.9</td>\n",
       "    </tr>\n",
       "  </tbody>\n",
       "</table>\n",
       "</div>"
      ],
      "text/plain": [
       "Type        % Aggressive Comments  % Toxic Comments\n",
       "age_group_                                         \n",
       "0-18                         19.8              14.8\n",
       "18-30                        17.2              14.3\n",
       "30-45                        17.1              14.6\n",
       "45-60                        17.4              14.5\n",
       "Over 60                      17.3              17.9"
      ]
     },
     "metadata": {},
     "output_type": "display_data"
    },
    {
     "data": {
      "image/png": "[encoded data removed]",
      "text/plain": [
       "<Figure size 574.15x432 with 1 Axes>"
      ]
     },
     "metadata": {},
     "output_type": "display_data"
    }
   ],
   "source": [
    "# % Comments of flagged for aggession and toxicity by age_group\n",
    "from  matplotlib.ticker import PercentFormatter\n",
    "agg_age_comments = aggression_joined.groupby('age_group', as_index=False).agg(\n",
    "    {'aggression':['sum', 'count']})\n",
    "agg_age_comments.columns = [\"_\".join(x) for x in agg_age_comments.columns.ravel()]\n",
    "agg_age_comments['Percentage'] = round(agg_age_comments['aggression_sum']/agg_age_comments['aggression_count'], 3) \n",
    "agg_age_comments['Type'] = \"Aggression\"\n",
    "#display(agg_age_comments) #QC\n",
    "\n",
    "tox_age_comments = toxicity_joined.groupby('age_group', as_index=False).agg(\n",
    "    {'toxicity':['sum', 'count']})\n",
    "tox_age_comments.columns = [\"_\".join(x) for x in tox_age_comments.columns.ravel()]\n",
    "tox_age_comments['Percentage'] = round(tox_age_comments['toxicity_sum']/tox_age_comments['toxicity_count'], 3) \n",
    "tox_age_comments['Type'] = \"Toxicity\"\n",
    "#display(tox_age_comments) #QC\n",
    "\n",
    "# Merge the above 2 tables for plotting\n",
    "comments_flagged_age = agg_age_comments.append(tox_age_comments)\n",
    "comments_flagged_age = comments_flagged_age.replace(['Under 18'], '0-18')\n",
    "comments_flagged_age = comments_flagged_age.sort_values(['age_group_'])\n",
    "#display(comments_flagged_age) # view table\n",
    "\n",
    "# Tabular Output\n",
    "\n",
    "age_comments_table = pd.pivot_table(comments_flagged_age, values='Percentage', index=['age_group_'],\n",
    "                    columns=['Type'], aggfunc=np.sum)\n",
    "age_comments_table['Aggression'] = (100*age_comments_table['Aggression'])\n",
    "age_comments_table['Toxicity'] = 100*age_comments_table['Toxicity']\n",
    "age_comments_table = age_comments_table.rename(columns={ \"Aggression\": \"% Aggressive Comments\", \n",
    "                                                        \"Toxicity\" : \"% Toxic Comments\" })\n",
    "display(age_comments_table)\n",
    "\n",
    "# Bar Chart Output\n",
    "\n",
    "sns.set_style('ticks')\n",
    "sns.set_style(\"whitegrid\") #gridlines\n",
    "sns.set(font_scale=1.5)  \n",
    "\n",
    "g = sns.catplot(\n",
    "    data=comments_flagged_age, kind=\"bar\",\n",
    "    x=\"age_group_\", y=\"Percentage\", hue=\"Type\",\n",
    "    ci=\"sd\", palette=\"tab10\", alpha=.8, height=6\n",
    ")\n",
    "g.despine(left=True)\n",
    "g.set_axis_labels(\"Age Group\", \"% Comments Flagged\")\n",
    "\n",
    "for ax in g.axes.flat:\n",
    "    ax.yaxis.set_major_formatter(PercentFormatter(1))\n",
    "    \n",
    "# Save Output\n",
    "\n",
    "g.savefig(\"output/PercentCommentsbyAge.png\") \n"
   ]
  },
  {
   "cell_type": "markdown",
   "metadata": {},
   "source": [
    "Overall, we see a trend of higher aggressive comments than toxic comments. Though there is not a significant change.\n",
    "Looking at the plot, we see a sudden increase in toxic comments for the age group 'over 60' and increase in aggressive comments for '0-18' age groups. This may be an indication that older age groups might be more sensitive to toxic language compared to younger annotators which may introduce bias in the labelling process.\n",
    "\n",
    "The sudden change in 'Over 60' and '0-18' age group seems to be higher or differnt, but when we look at the count- they dont contribute much to the overall numbers. Thus, we do not observe any potential bias here."
   ]
  },
  {
   "cell_type": "markdown",
   "metadata": {},
   "source": [
    "## Step 2: Implications for research and product development"
   ]
  },
  {
   "cell_type": "markdown",
   "metadata": {
    "ExecuteTime": {
     "end_time": "2020-10-28T15:25:21.659777Z",
     "start_time": "2020-10-28T15:25:21.650099Z"
    }
   },
   "source": [
    "**What are some kinds of hostile speech that would be difficult to accurately detect using the approach used to train the Perspective API models?**\n",
    "\n",
    "Sol. Since Perspective API models have been trained on an English corpus labeled by English crowdworkers, there are lot of other speeches where this dataset may not work. For example-\n",
    "\n",
    "- Hostile speech written in some other language\n",
    "- Change in demographic for all the countries could not be captured in the dataset when we also have the criteria 'knowledge of english language'\n",
    "- Data with Sarcastic comments \n",
    "\n",
    "\n",
    "\n",
    "**Which, if any, of these demo applications would you expect the Perspective API—or any model trained on the Wikipedia Talk corpus—to perform well in? Why?**\n",
    "\n",
    "According to me, the performance of a model is highly dependent on the problem statement. Therefore, this dataset would perform good in applications related to identifying the toxicity or aggression in the speech. Thus, it should work well for the comment filter based on level of toxicity, since the model based on this dataset can do a great job at filtering our toxic or aggressive comments on the internet.\n",
    "\n",
    "\n",
    "**What are some other contexts or applications where you would expect the Perspective API to perform particularly well, or particularly poorly? Why?**\n",
    "\n",
    "Perspective API has been trained on comments from English Wikipedia talk pages. Comments on Wikipedia are free text but is slightly biased by the people who use this i.e. education or age bias might occur. Thus, the kind/type of hostility that is seen on ths comments from English Wikipedia talk pages is very specific and the trained model would be well aversed with that only. If this model is used on online portals or sites like Twitter, facebook, etc with a huge population , then Perspective API will tend to perform poorly. On the other hand, it will perform really well on other educational platforms or wikipedia.\n"
   ]
  }
 ],
 "metadata": {
  "kernelspec": {
   "display_name": "Python 3",
   "language": "python",
   "name": "python3"
  },
  "language_info": {
   "codemirror_mode": {
    "name": "ipython",
    "version": 3
   },
   "file_extension": ".py",
   "mimetype": "text/x-python",
   "name": "python",
   "nbconvert_exporter": "python",
   "pygments_lexer": "ipython3",
   "version": "3.7.4"
  }
 },
 "nbformat": 4,
 "nbformat_minor": 2
}
